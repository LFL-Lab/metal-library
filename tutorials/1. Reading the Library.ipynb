{
 "cells": [
  {
   "attachments": {},
   "cell_type": "markdown",
   "metadata": {},
   "source": [
    "# Tutorial #1: Interfacing w/ the Library\n",
    "\n",
    "**Target Audience:** Design Engineers / Front-end User\n",
    "\n",
    "**Learning Objectives:**\n",
    "1. Primary Functionality\n",
    "    1. [Selecting a component](#selecting)\n",
    "    2. [Meaning / notation of characteristics](#reading-characteristics)\n",
    "    3. [Finding geometrical parameters which best suits target characteristics](#select-characteristics)\n",
    "    4. [Export to `.gds` or dictionary compatable with `QComponent(options=...)`](#export)\n",
    "2. Secondary Functionality\n",
    "    1. Seeing who has contributed what data\n",
    "    2. Seeing what was the simulation method of the contributed data\n"
   ]
  },
  {
   "attachments": {},
   "cell_type": "markdown",
   "metadata": {},
   "source": [
    "# Section 1: Primary Functionality\n",
    "\n",
    "## Section 1.1: Selecting a Component <a id=\"selecting\"></a>\n",
    "\n",
    "First, let's see which components are currently supported."
   ]
  },
  {
   "cell_type": "code",
   "execution_count": 1,
   "metadata": {},
   "outputs": [
    {
     "name": "stdout",
     "output_type": "stream",
     "text": [
      "['TransmonCross', 'TransmonPocket']\n"
     ]
    }
   ],
   "source": [
    "import metal_library\n",
    "\n",
    "print(metal_library.supported_components)"
   ]
  },
  {
   "attachments": {},
   "cell_type": "markdown",
   "metadata": {},
   "source": [
    "Now we can place one of the supported components into `Reader`. This is a class meant to parse the library (located at `C:\\\\...\\metal_library\\library`)"
   ]
  },
  {
   "cell_type": "code",
   "execution_count": 2,
   "metadata": {},
   "outputs": [
    {
     "name": "stdout",
     "output_type": "stream",
     "text": [
      "<metal_library.core.reader.Reader object at 0x7fa63934b580>\n"
     ]
    }
   ],
   "source": [
    "from metal_library import Reader\n",
    "\n",
    "reader = Reader(component_name='TransmonCross')\n",
    "print(reader)"
   ]
  },
  {
   "attachments": {},
   "cell_type": "markdown",
   "metadata": {},
   "source": [
    "Interfacing with the library will be conducted through this object."
   ]
  },
  {
   "attachments": {},
   "cell_type": "markdown",
   "metadata": {},
   "source": [
    "## Section 1.2: Understanding Structure of Characteristics <a id=\"reading-characteristics\"></a>\n",
    "\n",
    "Since we're conducting science, we must use exact language when talking about the characteristics we're pulling.\n",
    "\n",
    "Example of **imprecise** language:\n",
    "- 👎 \"Get the coupling strength?\"\n",
    "\n",
    "Example of **precise** language:\n",
    "- 👍 \"Get the coupling strength between the readout cavity and qubit\"\n",
    "- 👍 \"Get the coupling strength between qubit #1 and the bus (connecting qubit #1 and qubit #2)\"\n",
    "\n"
   ]
  },
  {
   "attachments": {},
   "cell_type": "markdown",
   "metadata": {},
   "source": [
    "### Component Types\n",
    "In simulations, we don't always simulate the entire chip at once. So there's a property `component_types` to view which combinations we've simulated.\n",
    "\n",
    "It also includes a little blurb to help clarify what the names imply!"
   ]
  },
  {
   "cell_type": "code",
   "execution_count": 7,
   "metadata": {},
   "outputs": [
    {
     "name": "stdout",
     "output_type": "stream",
     "text": [
      "╒═════════════╤════════════════════════════════════════════════╤════════════════════════════════════════════╕\n",
      "│ QubitOnly   │ QubitCavity                                    │ QubitFeedline                              │\n",
      "╞═════════════╪════════════════════════════════════════════════╪════════════════════════════════════════════╡\n",
      "│ Qubit only  │ Qubit capacitvely coupled to a readout cavity. │ Qubit capacitvely coupled to a drive line. │\n",
      "╘═════════════╧════════════════════════════════════════════════╧════════════════════════════════════════════╛\n"
     ]
    },
    {
     "data": {
      "text/plain": [
       "['QubitOnly', 'QubitCavity', 'QubitFeedline']"
      ]
     },
     "execution_count": 7,
     "metadata": {},
     "output_type": "execute_result"
    }
   ],
   "source": [
    "reader.component_types"
   ]
  },
  {
   "attachments": {},
   "cell_type": "markdown",
   "metadata": {},
   "source": [
    "### Characteristics of Component Type\n",
    "\n",
    "Within each `component_type`, the types of observables / component characteristics you can extract change. To see which characteristics are supported, we can use `.get_characteristic_info`."
   ]
  },
  {
   "cell_type": "code",
   "execution_count": 4,
   "metadata": {},
   "outputs": [
    {
     "name": "stdout",
     "output_type": "stream",
     "text": [
      "╒═════════════════════════╤═══════════════════════════════════════╤═════════╤═══════════════╕\n",
      "│ CSV Column Name         │ Description                           │ Units   │ Math Symbol   │\n",
      "╞═════════════════════════╪═══════════════════════════════════════╪═════════╪═══════════════╡\n",
      "│ Qubit_Frequency_GHz     │ Qubit 01 Transition Freq (Linear GHz) │ GHz     │ f_{q,01}      │\n",
      "├─────────────────────────┼───────────────────────────────────────┼─────────┼───────────────┤\n",
      "│ Qubit_Anharmonicity_MHz │ Qubit Anharmonicity (Linear MHz)      │ MHz     │ \\alpha_{q}    │\n",
      "╘═════════════════════════╧═══════════════════════════════════════╧═════════╧═══════════════╛\n"
     ]
    }
   ],
   "source": [
    "reader.get_characteristic_info(component_type=\"QubitOnly\");"
   ]
  },
  {
   "cell_type": "code",
   "execution_count": 5,
   "metadata": {},
   "outputs": [
    {
     "name": "stdout",
     "output_type": "stream",
     "text": [
      "╒═════════════════════════╤════════════════════════════════════════════════╤═════════╤═══════════════╕\n",
      "│ CSV Column Name         │ Description                                    │ Units   │ Math Symbol   │\n",
      "╞═════════════════════════╪════════════════════════════════════════════════╪═════════╪═══════════════╡\n",
      "│ Qubit_Frequency_GHz     │ Qubit 01 Transition Freq (Linear GHz)          │ GHz     │ f_{q,01}      │\n",
      "├─────────────────────────┼────────────────────────────────────────────────┼─────────┼───────────────┤\n",
      "│ Qubit_Anharmonicity_MHz │ Qubit Anharmonicity (Linear MHz)               │ MHz     │ \\alpha_{q}    │\n",
      "├─────────────────────────┼────────────────────────────────────────────────┼─────────┼───────────────┤\n",
      "│ Cavity_Frequency_GHz    │ Cavity Resonant Freq (Linear MHz)              │ GHz     │ _{c}          │\n",
      "├─────────────────────────┼────────────────────────────────────────────────┼─────────┼───────────────┤\n",
      "│ Coupling_Strength_MHz   │ Coupling between qubit and cavity (Linear MHz) │ MHz     │ g_{q,c}       │\n",
      "╘═════════════════════════╧════════════════════════════════════════════════╧═════════╧═══════════════╛\n"
     ]
    }
   ],
   "source": [
    "reader.get_characteristic_info(component_type=\"QubitCavity\");"
   ]
  },
  {
   "cell_type": "code",
   "execution_count": null,
   "metadata": {},
   "outputs": [],
   "source": []
  }
 ],
 "metadata": {
  "kernelspec": {
   "display_name": "clark_dev",
   "language": "python",
   "name": "python3"
  },
  "language_info": {
   "codemirror_mode": {
    "name": "ipython",
    "version": 3
   },
   "file_extension": ".py",
   "mimetype": "text/x-python",
   "name": "python",
   "nbconvert_exporter": "python",
   "pygments_lexer": "ipython3",
   "version": "3.10.4"
  },
  "orig_nbformat": 4
 },
 "nbformat": 4,
 "nbformat_minor": 2
}
