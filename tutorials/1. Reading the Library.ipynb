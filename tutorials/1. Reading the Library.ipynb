{
 "cells": [
  {
   "cell_type": "markdown",
   "metadata": {},
   "source": [
    "# Tutorial #1: Interfacing w/ the Library\n",
    "\n",
    "**Target Audience:** Design Engineers / Front-end User\n",
    "\n",
    "**Learning Objectives:**\n",
    "1. Primary Functionality\n",
    "    1. [Selecting a component](#component)\n",
    "    2. [Meaning / notation of characteristics](#reading-characteristics)\n",
    "    3. [Finding geometrical parameters which best suits target characteristics](#select-characteristics)\n",
    "2. Secondary Functionality\n",
    "    1. Seeing who has contributed what data"
   ]
  },
  {
   "cell_type": "markdown",
   "metadata": {},
   "source": [
    "# Section 1: Primary Functionality\n",
    "\n",
    "## Section 1.1: Selecting a Component <a id=\"component\"></a>\n",
    "\n",
    "First, let's see which components are currently supported."
   ]
  },
  {
   "cell_type": "code",
   "execution_count": 1,
   "metadata": {},
   "outputs": [
    {
     "name": "stdout",
     "output_type": "stream",
     "text": [
      "['TransmonCross', 'TransmonPocket']\n"
     ]
    }
   ],
   "source": [
    "import metal_library\n",
    "\n",
    "print(metal_library.supported_components)"
   ]
  },
  {
   "cell_type": "markdown",
   "metadata": {},
   "source": [
    "Now we can place one of the supported components into `Reader`. This is a class meant to parse the library (located at `C:\\\\...\\metal_library\\library`)"
   ]
  },
  {
   "cell_type": "code",
   "execution_count": 2,
   "metadata": {},
   "outputs": [
    {
     "name": "stdout",
     "output_type": "stream",
     "text": [
      "<metal_library.core.reader.Reader object at 0x7f8c609f0850>\n"
     ]
    }
   ],
   "source": [
    "from metal_library import Reader\n",
    "\n",
    "reader = Reader(component_name='TransmonCross')\n",
    "print(reader)"
   ]
  },
  {
   "cell_type": "markdown",
   "metadata": {},
   "source": [
    "Interfacing with the library will be conducted through this object."
   ]
  },
  {
   "cell_type": "markdown",
   "metadata": {},
   "source": [
    "## Section 1.2: Understanding Structure of Characteristics <a id=\"reading-characteristics\"></a>\n",
    "\n",
    "Since we're conducting science, we must use exact language when talking about the characteristics we're pulling.\n",
    "\n",
    "Example of **imprecise** language:\n",
    "- 👎 \"Get the coupling strength?\"\n",
    "\n",
    "Example of **precise** language:\n",
    "- 👍 \"Get the coupling strength between the readout cavity and qubit\"\n",
    "- 👍 \"Get the coupling strength between qubit #1 and the bus (connecting qubit #1 and qubit #2)\"\n",
    "\n",
    "The following attributes / functions were created to help the front-end user follow precisely what each component characteristic means.\n",
    "\n"
   ]
  },
  {
   "cell_type": "markdown",
   "metadata": {},
   "source": [
    "### Component Types\n",
    "In simulations, we don't always simulate the entire chip at once. So there's a property `component_types` to view which combinations we've simulated.\n",
    "\n",
    "It also includes a little blurb to help clarify what the names imply!"
   ]
  },
  {
   "cell_type": "code",
   "execution_count": 3,
   "metadata": {},
   "outputs": [
    {
     "name": "stdout",
     "output_type": "stream",
     "text": [
      "╒════════════════════════════╤════════════════════════════════════════════════╕\n",
      "│ Supported Component Type   │ Blurb                                          │\n",
      "╞════════════════════════════╪════════════════════════════════════════════════╡\n",
      "│ QubitOnly                  │ Qubit only                                     │\n",
      "├────────────────────────────┼────────────────────────────────────────────────┤\n",
      "│ QubitCavity                │ Qubit capacitvely coupled to a readout cavity. │\n",
      "├────────────────────────────┼────────────────────────────────────────────────┤\n",
      "│ QubitDriveline             │ Qubit capacitvely coupled to a drive line.     │\n",
      "╘════════════════════════════╧════════════════════════════════════════════════╛\n"
     ]
    },
    {
     "data": {
      "text/plain": [
       "['QubitOnly', 'QubitCavity', 'QubitDriveline']"
      ]
     },
     "execution_count": 3,
     "metadata": {},
     "output_type": "execute_result"
    }
   ],
   "source": [
    "reader.component_types"
   ]
  },
  {
   "cell_type": "markdown",
   "metadata": {},
   "source": [
    "### Characteristics of Component Type\n",
    "\n",
    "Within each `component_type`, the types of observables / component characteristics you can extract change. To see which characteristics are supported, we can use `.get_characteristic_info`."
   ]
  },
  {
   "cell_type": "code",
   "execution_count": 4,
   "metadata": {},
   "outputs": [
    {
     "name": "stdout",
     "output_type": "stream",
     "text": [
      "╒═════════════════════════╤═══════════════════════════════════════╤═════════╤═══════════════╕\n",
      "│ CSV Column Name         │ Description                           │ Units   │ Math Symbol   │\n",
      "╞═════════════════════════╪═══════════════════════════════════════╪═════════╪═══════════════╡\n",
      "│ Qubit_Frequency_GHz     │ Qubit 01 Transition Freq (Linear GHz) │ GHz     │ f_{q,01}      │\n",
      "├─────────────────────────┼───────────────────────────────────────┼─────────┼───────────────┤\n",
      "│ Qubit_Anharmonicity_MHz │ Qubit Anharmonicity (Linear MHz)      │ MHz     │ \\alpha_{q}    │\n",
      "╘═════════════════════════╧═══════════════════════════════════════╧═════════╧═══════════════╛\n"
     ]
    }
   ],
   "source": [
    "reader.get_characteristic_info(component_type=\"QubitOnly\");"
   ]
  },
  {
   "cell_type": "code",
   "execution_count": 5,
   "metadata": {},
   "outputs": [
    {
     "name": "stdout",
     "output_type": "stream",
     "text": [
      "╒═════════════════════════╤════════════════════════════════════════════════╤═════════╤═══════════════╕\n",
      "│ CSV Column Name         │ Description                                    │ Units   │ Math Symbol   │\n",
      "╞═════════════════════════╪════════════════════════════════════════════════╪═════════╪═══════════════╡\n",
      "│ Qubit_Frequency_GHz     │ Qubit 01 Transition Freq (Linear GHz)          │ GHz     │ f_{q,01}      │\n",
      "├─────────────────────────┼────────────────────────────────────────────────┼─────────┼───────────────┤\n",
      "│ Qubit_Anharmonicity_MHz │ Qubit Anharmonicity (Linear MHz)               │ MHz     │ \\alpha_{q}    │\n",
      "├─────────────────────────┼────────────────────────────────────────────────┼─────────┼───────────────┤\n",
      "│ Cavity_Frequency_GHz    │ Cavity Resonant Freq (Linear MHz)              │ GHz     │ _{c}          │\n",
      "├─────────────────────────┼────────────────────────────────────────────────┼─────────┼───────────────┤\n",
      "│ Coupling_Strength_MHz   │ Coupling between qubit and cavity (Linear MHz) │ MHz     │ g_{q,c}       │\n",
      "╘═════════════════════════╧════════════════════════════════════════════════╧═════════╧═══════════════╛\n"
     ]
    }
   ],
   "source": [
    "reader.get_characteristic_info(component_type=\"QubitCavity\");"
   ]
  },
  {
   "cell_type": "code",
   "execution_count": 6,
   "metadata": {},
   "outputs": [
    {
     "name": "stdout",
     "output_type": "stream",
     "text": [
      "╒══════════════════════════╤═════════════════════════════════════════════╤═════════╤═══════════════╕\n",
      "│ CSV Column Name          │ Description                                 │ Units   │ Math Symbol   │\n",
      "╞══════════════════════════╪═════════════════════════════════════════════╪═════════╪═══════════════╡\n",
      "│ Qubit_Frequency_GHz      │ Qubit 01 Transition Freq (Linear GHz)       │ GHz     │ f_{q,01}      │\n",
      "├──────────────────────────┼─────────────────────────────────────────────┼─────────┼───────────────┤\n",
      "│ Qubit_Anharmonicity_MHz  │ Qubit Anharmonicity (Linear MHz)            │ MHz     │ \\alpha_{q}    │\n",
      "├──────────────────────────┼─────────────────────────────────────────────┼─────────┼───────────────┤\n",
      "│ Driveline_Decay_Rate_MHz │ Feedline limited T1 Decay Rate (linear MHz) │ MHz     │ \\kappa        │\n",
      "╘══════════════════════════╧═════════════════════════════════════════════╧═════════╧═══════════════╛\n"
     ]
    }
   ],
   "source": [
    "reader.get_characteristic_info(component_type=\"QubitDriveline\");"
   ]
  },
  {
   "cell_type": "markdown",
   "metadata": {},
   "source": [
    "## Section 1.3: Finding a Geometry for Given Characteristics (MAIN FUNCTIONALITY)<a id=\"select-characteristics\"></a>\n",
    "\n",
    "The main functionality of this program is to find a geometry for a set of target characteristics, let's now dive into it!\n",
    "\n",
    "First you must select a component_type and read that library."
   ]
  },
  {
   "cell_type": "code",
   "execution_count": 7,
   "metadata": {},
   "outputs": [],
   "source": [
    "reader.read_library(component_type='QubitOnly')"
   ]
  },
  {
   "cell_type": "code",
   "execution_count": 8,
   "metadata": {},
   "outputs": [
    {
     "data": {
      "text/html": [
       "<div>\n",
       "<style scoped>\n",
       "    .dataframe tbody tr th:only-of-type {\n",
       "        vertical-align: middle;\n",
       "    }\n",
       "\n",
       "    .dataframe tbody tr th {\n",
       "        vertical-align: top;\n",
       "    }\n",
       "\n",
       "    .dataframe thead th {\n",
       "        text-align: right;\n",
       "    }\n",
       "</style>\n",
       "<table border=\"1\" class=\"dataframe\">\n",
       "  <thead>\n",
       "    <tr style=\"text-align: right;\">\n",
       "      <th></th>\n",
       "      <th>Qubit_Frequency_GHz</th>\n",
       "      <th>Qubit_Anharmonicity_MHz</th>\n",
       "      <th>misc</th>\n",
       "    </tr>\n",
       "  </thead>\n",
       "  <tbody>\n",
       "    <tr>\n",
       "      <th>0</th>\n",
       "      <td>4368.966835</td>\n",
       "      <td>208.731884</td>\n",
       "      <td>{'project_info': {'pinfo': design_name        ...</td>\n",
       "    </tr>\n",
       "    <tr>\n",
       "      <th>1</th>\n",
       "      <td>4368.966835</td>\n",
       "      <td>208.731884</td>\n",
       "      <td>{'project_info': {'pinfo': design_name        ...</td>\n",
       "    </tr>\n",
       "    <tr>\n",
       "      <th>2</th>\n",
       "      <td>4368.966835</td>\n",
       "      <td>208.731884</td>\n",
       "      <td>{'project_info': {'pinfo': design_name        ...</td>\n",
       "    </tr>\n",
       "    <tr>\n",
       "      <th>3</th>\n",
       "      <td>4193.934789</td>\n",
       "      <td>210.539654</td>\n",
       "      <td>{'project_info': {'pinfo': design_name        ...</td>\n",
       "    </tr>\n",
       "    <tr>\n",
       "      <th>4</th>\n",
       "      <td>4031.690829</td>\n",
       "      <td>211.554005</td>\n",
       "      <td>{'project_info': {'pinfo': design_name        ...</td>\n",
       "    </tr>\n",
       "  </tbody>\n",
       "</table>\n",
       "</div>"
      ],
      "text/plain": [
       "   Qubit_Frequency_GHz  Qubit_Anharmonicity_MHz  \\\n",
       "0          4368.966835               208.731884   \n",
       "1          4368.966835               208.731884   \n",
       "2          4368.966835               208.731884   \n",
       "3          4193.934789               210.539654   \n",
       "4          4031.690829               211.554005   \n",
       "\n",
       "                                                misc  \n",
       "0  {'project_info': {'pinfo': design_name        ...  \n",
       "1  {'project_info': {'pinfo': design_name        ...  \n",
       "2  {'project_info': {'pinfo': design_name        ...  \n",
       "3  {'project_info': {'pinfo': design_name        ...  \n",
       "4  {'project_info': {'pinfo': design_name        ...  "
      ]
     },
     "execution_count": 8,
     "metadata": {},
     "output_type": "execute_result"
    }
   ],
   "source": [
    "reader.library.characteristic.head()"
   ]
  },
  {
   "cell_type": "markdown",
   "metadata": {},
   "source": [
    "### Now we can interface with the library using the `Selector` class."
   ]
  },
  {
   "cell_type": "code",
   "execution_count": 9,
   "metadata": {},
   "outputs": [
    {
     "name": "stdout",
     "output_type": "stream",
     "text": [
      "<metal_library.core.selector.Selector object at 0x7f8c609f31c0>\n"
     ]
    }
   ],
   "source": [
    "from metal_library import Selector\n",
    "\n",
    "selector = Selector(reader)\n",
    "print(selector)"
   ]
  },
  {
   "cell_type": "markdown",
   "metadata": {},
   "source": [
    "Let's select a geometry which results in the closest qubit characteristics.\n",
    "\n",
    "Call `Selector.find_closest`\n",
    "\n",
    "```\n",
    "Main functionality. Select the closest geometry for a set of characteristics.\n",
    "\n",
    "Args:\n",
    "    target_params (dict): A dictionary where the keys are the column names in `self.characteristic`,\n",
    "                          and the values are the target values to compare against.\n",
    "    num_top (int): The number of rows with the smallest Euclidean distances to return.\n",
    "    metric (str, optional): Metric to determine closeness. Defaults to \"Euclidian\". \n",
    "                            Must choose from `self.__supported_metrics__`.\n",
    "    display (boo, optional): Print out results? Defaults to True.\n",
    "\n",
    "Returns:\n",
    "    best_geometries (list[dict]): Geometries in the style of QComponent.options. Ranked closest to furthest.\n",
    "```\n"
   ]
  },
  {
   "cell_type": "code",
   "execution_count": 10,
   "metadata": {},
   "outputs": [
    {
     "data": {
      "text/plain": [
       "['Euclidian', 'Manhattan', 'Chebyshev']"
      ]
     },
     "execution_count": 10,
     "metadata": {},
     "output_type": "execute_result"
    }
   ],
   "source": [
    "# Here are the supported metrics...\n",
    "selector.__supported_metrics__"
   ]
  },
  {
   "cell_type": "code",
   "execution_count": 11,
   "metadata": {},
   "outputs": [
    {
     "name": "stdout",
     "output_type": "stream",
     "text": [
      "Here are the top 3 geometries using the Euclidian metric.\n",
      "Target parameters: {'Qubit_Frequency_GHz': 4200, 'Qubit_Anharmonicity_MHz': 200} \n",
      "\n",
      "\u001b[1mThe best match was:\u001b[0m\n",
      "{'Unnamed: 0': 531, 'pos_x': 0, ' pos_y': '0.0um', ' orientation': 0, ' chip': 'main', ' layer': 1, ' connection_pads': {'readout': {'connector_type': 0, 'claw_length': '205um', 'ground_spacing': '10um', 'claw_width': '15um', 'claw_gap': '5.1um', 'claw_cpw_length': '40um', 'claw_cpw_width': '10um', 'connector_location': 180}}, ' cross_width': '30um', ' cross_length': '185um', ' cross_gap': '29um', ' hfss_inductance': '10nH', ' hfss_capacitance': 0, ' hfss_resistance': 0, ' hfss_mesh_kw_jj': 7e-06, ' q3d_inductance': '10nH', ' q3d_capacitance': 0, ' q3d_resistance': 0, ' q3d_mesh_kw_jj': 7e-06, ' gds_cell_name': 'my_other_junction', ' aedt_q3d_inductance': 1e-08, ' aedt_q3d_capacitance': 0, ' aedt_hfss_inductance': 1.3e-08, ' aedt_hfss_capacitance': 0} \n",
      "\n",
      "\u001b[1mThe other matches\u001b[0m (ordered closeset to furthest):\n",
      "Match #2:\n",
      "{'Unnamed: 0': 441, 'pos_x': 0, ' pos_y': '0.0um', ' orientation': 0, ' chip': 'main', ' layer': 1, ' connection_pads': {'readout': {'connector_type': 0, 'claw_length': '205um', 'ground_spacing': '7um', 'claw_width': '10um', 'claw_gap': '5.1um', 'claw_cpw_length': '40um', 'claw_cpw_width': '10um', 'connector_location': 180}}, ' cross_width': '30um', ' cross_length': '185um', ' cross_gap': '29um', ' hfss_inductance': '10nH', ' hfss_capacitance': 0, ' hfss_resistance': 0, ' hfss_mesh_kw_jj': 7e-06, ' q3d_inductance': '10nH', ' q3d_capacitance': 0, ' q3d_resistance': 0, ' q3d_mesh_kw_jj': 7e-06, ' gds_cell_name': 'my_other_junction', ' aedt_q3d_inductance': 1e-08, ' aedt_q3d_capacitance': 0, ' aedt_hfss_inductance': 1.3e-08, ' aedt_hfss_capacitance': 0} \n",
      "\n",
      "Match #3:\n",
      "{'Unnamed: 0': 58, 'pos_x': 0, ' pos_y': '0.0um', ' orientation': 0, ' chip': 'main', ' layer': 1, ' connection_pads': {'readout': {'connector_type': 0, 'claw_length': '185um', 'ground_spacing': '5um', 'claw_width': '15um', 'claw_gap': '5.1um', 'claw_cpw_length': '40um', 'claw_cpw_width': '10um', 'connector_location': 180}}, ' cross_width': '30um', ' cross_length': '185um', ' cross_gap': '29um', ' hfss_inductance': '10nH', ' hfss_capacitance': 0, ' hfss_resistance': 0, ' hfss_mesh_kw_jj': 7e-06, ' q3d_inductance': '10nH', ' q3d_capacitance': 0, ' q3d_resistance': 0, ' q3d_mesh_kw_jj': 7e-06, ' gds_cell_name': 'my_other_junction', ' aedt_q3d_inductance': 1e-08, ' aedt_q3d_capacitance': 0, ' aedt_hfss_inductance': 1.3e-08, ' aedt_hfss_capacitance': 0} \n",
      "\n"
     ]
    }
   ],
   "source": [
    "best_geometries = selector.find_closest(target_params={\"Qubit_Frequency_GHz\": 4200,\n",
    "                                                       \"Qubit_Anharmonicity_MHz\": 200},\n",
    "                                        num_top=3,\n",
    "                                        metric=\"Euclidian\",\n",
    "                                        display=True)"
   ]
  },
  {
   "cell_type": "code",
   "execution_count": null,
   "metadata": {},
   "outputs": [],
   "source": []
  }
 ],
 "metadata": {
  "kernelspec": {
   "display_name": "Python 3 (ipykernel)",
   "language": "python",
   "name": "python3"
  },
  "language_info": {
   "codemirror_mode": {
    "name": "ipython",
    "version": 3
   },
   "file_extension": ".py",
   "mimetype": "text/x-python",
   "name": "python",
   "nbconvert_exporter": "python",
   "pygments_lexer": "ipython3",
   "version": "3.10.4"
  }
 },
 "nbformat": 4,
 "nbformat_minor": 2
}
