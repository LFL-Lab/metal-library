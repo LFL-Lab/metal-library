{
 "cells": [
  {
   "attachments": {},
   "cell_type": "markdown",
   "metadata": {},
   "source": [
    "# Tutorial #1: Interfacing w/ the Library\n",
    "\n",
    "**Target Audience:** Design Engineers / Front-end User\n",
    "**Learning Objectives**\n",
    "1. Primary Functionality\n",
    "    1. Selecting a component\n",
    "    2. Meaning / notation of characteristics\n",
    "    3. Finding geometrical parameters which best suits target characteristics\n",
    "    4. Export to `.gds` or dictionary compatable with `QComponent(options=...)`\n",
    "2. Secondary Functionality\n",
    "    1. Seeing who has contributed what data\n",
    "    2. Seeing what was the simulation method of the contributed data\n"
   ]
  },
  {
   "cell_type": "code",
   "execution_count": 5,
   "metadata": {},
   "outputs": [
    {
     "data": {
      "text/plain": [
       "{'qiskit-metal-version': '0.1.5',\n",
       " 'qiskit-metal-component-path': 'qiskit_metal.qlibrary.qubits.transmon_cross.TransmonCross',\n",
       " 'metal-library-component-path': None,\n",
       " 'component-types': {'QubitOnly': {'characteristics': [{'column_name': 'Qubit_Frequency_GHz',\n",
       "     'blurb': 'Qubit 01 Transition Freq (Linear GHz)',\n",
       "     'units': 'GHz',\n",
       "     'latex_symbol': 'f_{q,01}'},\n",
       "    {'column_name': 'Qubit_Anharmonicity_MHz',\n",
       "     'blurb': 'Qubit Anharmonicity (Linear MHz)',\n",
       "     'units': 'MHz',\n",
       "     'latex_symbol': '\\\\alpha_{q}'}]},\n",
       "  'QubitCavity': {'characteristics': [{'column_name': 'Qubit_Frequency_GHz',\n",
       "     'blurb': 'Qubit 01 Transition Freq (Linear GHz)',\n",
       "     'units': 'GHz',\n",
       "     'latex_symbol': 'f_{q,01}'},\n",
       "    {'column_name': 'Qubit_Anharmonicity_MHz',\n",
       "     'blurb': 'Qubit Anharmonicity (Linear MHz)',\n",
       "     'units': 'MHz',\n",
       "     'latex_symbol': '\\\\alpha_{q}'},\n",
       "    {'column_name': 'Cavity_Frequency_GHz',\n",
       "     'blurb': 'Cavity Resonant Freq (Linear MHz)',\n",
       "     'units': 'GHz',\n",
       "     'latex_symbol': '\\x0c_{c}'},\n",
       "    {'column_name': 'Coupling_Strength_MHz',\n",
       "     'blurb': 'Coupling between qubit and cavity (Linear MHz)',\n",
       "     'units': 'MHz',\n",
       "     'latex_symbol': 'g_{q,c}'}]}},\n",
       " 'contributors': {'experiment': {'authors': [{'name': ['Clark Miyamoto',\n",
       "      'Andre Kuo'],\n",
       "     'pi': ['Eli Levenson-Falk'],\n",
       "     'institution': ['University of Southern California, Physics Department'],\n",
       "     'contribution': [None]}]},\n",
       "  'simulation': {'authors': [{'name': ['Clark Miyamoto', 'Andre Kuo'],\n",
       "     'pi': ['Eli Levenson-Falk'],\n",
       "     'institution': ['University of Southern California, Physics Department'],\n",
       "     'contribution': {'QubitOnly': {'csv_startline': 0,\n",
       "       'csv_endline': 729,\n",
       "       'method_path': None},\n",
       "      'QubitCavity': {'csv_startline': None,\n",
       "       'csv_endline': None,\n",
       "       'method_path': None},\n",
       "      'QubitFeedline': {'csv_startline': None,\n",
       "       'csv_endline': None,\n",
       "       'method_path': None}}},\n",
       "    {'name': ['your', 'names'],\n",
       "     'pi': ['your PI', '(s)'],\n",
       "     'institution': ['your professional afiliation'],\n",
       "     'contribution': {'QubitOnly': {'csv_startline': 0,\n",
       "       'csv_endline': 729,\n",
       "       'method_path': None},\n",
       "      'QubitCavity': {'csv_startline': None,\n",
       "       'csv_endline': None,\n",
       "       'method_path': None},\n",
       "      'QubitFeedline': {'csv_startline': None,\n",
       "       'csv_endline': None,\n",
       "       'method_path': None}}}]}}}"
      ]
     },
     "execution_count": 5,
     "metadata": {},
     "output_type": "execute_result"
    }
   ],
   "source": [
    "from metal_library import Reader\n",
    "reader = Reader(component_name='TransmonCross')\n",
    "reader.config"
   ]
  },
  {
   "cell_type": "code",
   "execution_count": null,
   "metadata": {},
   "outputs": [],
   "source": []
  }
 ],
 "metadata": {
  "kernelspec": {
   "display_name": "clark_dev",
   "language": "python",
   "name": "python3"
  },
  "language_info": {
   "codemirror_mode": {
    "name": "ipython",
    "version": 3
   },
   "file_extension": ".py",
   "mimetype": "text/x-python",
   "name": "python",
   "nbconvert_exporter": "python",
   "pygments_lexer": "ipython3",
   "version": "3.10.4"
  },
  "orig_nbformat": 4
 },
 "nbformat": 4,
 "nbformat_minor": 2
}
