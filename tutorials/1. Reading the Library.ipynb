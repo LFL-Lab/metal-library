{
 "cells": [
  {
   "cell_type": "markdown",
   "metadata": {},
   "source": [
    "# Tutorial #1: Interfacing w/ the Library\n",
    "\n",
    "**Target Audience:** Design Engineers / Front-end User\n",
    "\n",
    "**Learning Objectives:**\n",
    "1. Primary Functionality\n",
    "    1. [Selecting a component](#selecting)\n",
    "    2. [Meaning / notation of characteristics](#reading-characteristics)\n",
    "    3. [Finding geometrical parameters which best suits target characteristics](#select-characteristics)\n",
    "    4. [Export to `.gds` or dictionary compatable with `QComponent(options=...)`](#export)\n",
    "2. Secondary Functionality\n",
    "    1. Seeing who has contributed what data\n",
    "    2. Seeing what was the simulation method of the contributed data\n"
   ]
  },
  {
   "cell_type": "markdown",
   "metadata": {},
   "source": [
    "# Section 1: Primary Functionality\n",
    "\n",
    "## Section 1.1: Selecting a Component <a id=\"selecting\"></a>\n",
    "\n",
    "First, let's see which components are currently supported."
   ]
  },
  {
   "cell_type": "code",
   "execution_count": 1,
   "metadata": {},
   "outputs": [
    {
     "name": "stdout",
     "output_type": "stream",
     "text": [
      "['TransmonCross', 'TransmonPocket']\n"
     ]
    }
   ],
   "source": [
    "import metal_library\n",
    "\n",
    "print(metal_library.supported_components)"
   ]
  },
  {
   "cell_type": "markdown",
   "metadata": {},
   "source": [
    "Now we can place one of the supported components into `Reader`. This is a class meant to parse the library (located at `C:\\\\...\\metal_library\\library`)"
   ]
  },
  {
   "cell_type": "code",
   "execution_count": 2,
   "metadata": {},
   "outputs": [
    {
     "name": "stdout",
     "output_type": "stream",
     "text": [
      "<metal_library.core.reader.Reader object at 0x7fb4606bc760>\n"
     ]
    }
   ],
   "source": [
    "from metal_library import Reader\n",
    "\n",
    "reader = Reader(component_name='TransmonCross')\n",
    "print(reader)"
   ]
  },
  {
   "cell_type": "markdown",
   "metadata": {},
   "source": [
    "Interfacing with the library will be conducted through this object."
   ]
  },
  {
   "cell_type": "markdown",
   "metadata": {},
   "source": [
    "## Section 1.2: Understanding Structure of Characteristics <a id=\"reading-characteristics\"></a>\n",
    "\n",
    "Since we're conducting science, we must use exact language when talking about the characteristics we're pulling.\n",
    "\n",
    "Example of **imprecise** language:\n",
    "- 👎 \"Get the coupling strength?\"\n",
    "\n",
    "Example of **precise** language:\n",
    "- 👍 \"Get the coupling strength between the readout cavity and qubit\"\n",
    "- 👍 \"Get the coupling strength between qubit #1 and the bus (connecting qubit #1 and qubit #2)\"\n",
    "\n",
    "The following attributes / functions were created to help the front-end user follow precisely what each component characteristic means.\n",
    "\n"
   ]
  },
  {
   "cell_type": "markdown",
   "metadata": {},
   "source": [
    "### Component Types\n",
    "In simulations, we don't always simulate the entire chip at once. So there's a property `component_types` to view which combinations we've simulated.\n",
    "\n",
    "It also includes a little blurb to help clarify what the names imply!"
   ]
  },
  {
   "cell_type": "code",
   "execution_count": 3,
   "metadata": {},
   "outputs": [
    {
     "name": "stdout",
     "output_type": "stream",
     "text": [
      "╒═════════════╤════════════════════════════════════════════════╤════════════════════════════════════════════╕\n",
      "│ QubitOnly   │ QubitCavity                                    │ QubitDriveline                             │\n",
      "╞═════════════╪════════════════════════════════════════════════╪════════════════════════════════════════════╡\n",
      "│ Qubit only  │ Qubit capacitvely coupled to a readout cavity. │ Qubit capacitvely coupled to a drive line. │\n",
      "╘═════════════╧════════════════════════════════════════════════╧════════════════════════════════════════════╛\n"
     ]
    },
    {
     "data": {
      "text/plain": [
       "['QubitOnly', 'QubitCavity', 'QubitDriveline']"
      ]
     },
     "execution_count": 3,
     "metadata": {},
     "output_type": "execute_result"
    }
   ],
   "source": [
    "reader.component_types"
   ]
  },
  {
   "cell_type": "markdown",
   "metadata": {},
   "source": [
    "### Characteristics of Component Type\n",
    "\n",
    "Within each `component_type`, the types of observables / component characteristics you can extract change. To see which characteristics are supported, we can use `.get_characteristic_info`."
   ]
  },
  {
   "cell_type": "code",
   "execution_count": 4,
   "metadata": {},
   "outputs": [
    {
     "name": "stdout",
     "output_type": "stream",
     "text": [
      "╒═════════════════════════╤═══════════════════════════════════════╤═════════╤═══════════════╕\n",
      "│ CSV Column Name         │ Description                           │ Units   │ Math Symbol   │\n",
      "╞═════════════════════════╪═══════════════════════════════════════╪═════════╪═══════════════╡\n",
      "│ Qubit_Frequency_GHz     │ Qubit 01 Transition Freq (Linear GHz) │ GHz     │ f_{q,01}      │\n",
      "├─────────────────────────┼───────────────────────────────────────┼─────────┼───────────────┤\n",
      "│ Qubit_Anharmonicity_MHz │ Qubit Anharmonicity (Linear MHz)      │ MHz     │ \\alpha_{q}    │\n",
      "╘═════════════════════════╧═══════════════════════════════════════╧═════════╧═══════════════╛\n"
     ]
    }
   ],
   "source": [
    "reader.get_characteristic_info(component_type=\"QubitOnly\");"
   ]
  },
  {
   "cell_type": "code",
   "execution_count": 5,
   "metadata": {},
   "outputs": [
    {
     "name": "stdout",
     "output_type": "stream",
     "text": [
      "╒═════════════════════════╤════════════════════════════════════════════════╤═════════╤═══════════════╕\n",
      "│ CSV Column Name         │ Description                                    │ Units   │ Math Symbol   │\n",
      "╞═════════════════════════╪════════════════════════════════════════════════╪═════════╪═══════════════╡\n",
      "│ Qubit_Frequency_GHz     │ Qubit 01 Transition Freq (Linear GHz)          │ GHz     │ f_{q,01}      │\n",
      "├─────────────────────────┼────────────────────────────────────────────────┼─────────┼───────────────┤\n",
      "│ Qubit_Anharmonicity_MHz │ Qubit Anharmonicity (Linear MHz)               │ MHz     │ \\alpha_{q}    │\n",
      "├─────────────────────────┼────────────────────────────────────────────────┼─────────┼───────────────┤\n",
      "│ Cavity_Frequency_GHz    │ Cavity Resonant Freq (Linear MHz)              │ GHz     │ _{c}          │\n",
      "├─────────────────────────┼────────────────────────────────────────────────┼─────────┼───────────────┤\n",
      "│ Coupling_Strength_MHz   │ Coupling between qubit and cavity (Linear MHz) │ MHz     │ g_{q,c}       │\n",
      "╘═════════════════════════╧════════════════════════════════════════════════╧═════════╧═══════════════╛\n"
     ]
    }
   ],
   "source": [
    "reader.get_characteristic_info(component_type=\"QubitCavity\");"
   ]
  },
  {
   "cell_type": "code",
   "execution_count": 6,
   "metadata": {},
   "outputs": [
    {
     "name": "stdout",
     "output_type": "stream",
     "text": [
      "╒══════════════════════════╤═════════════════════════════════════════════╤═════════╤═══════════════╕\n",
      "│ CSV Column Name          │ Description                                 │ Units   │ Math Symbol   │\n",
      "╞══════════════════════════╪═════════════════════════════════════════════╪═════════╪═══════════════╡\n",
      "│ Qubit_Frequency_GHz      │ Qubit 01 Transition Freq (Linear GHz)       │ GHz     │ f_{q,01}      │\n",
      "├──────────────────────────┼─────────────────────────────────────────────┼─────────┼───────────────┤\n",
      "│ Qubit_Anharmonicity_MHz  │ Qubit Anharmonicity (Linear MHz)            │ MHz     │ \\alpha_{q}    │\n",
      "├──────────────────────────┼─────────────────────────────────────────────┼─────────┼───────────────┤\n",
      "│ Driveline_Decay_Rate_MHz │ Feedline limited T1 Decay Rate (linear MHz) │ MHz     │ \\kappa        │\n",
      "╘══════════════════════════╧═════════════════════════════════════════════╧═════════╧═══════════════╛\n"
     ]
    }
   ],
   "source": [
    "reader.get_characteristic_info(component_type=\"QubitDriveline\");"
   ]
  },
  {
   "cell_type": "markdown",
   "metadata": {},
   "source": [
    "## Section 1.3: Finding a Geometry for Given Characteristics"
   ]
  },
  {
   "cell_type": "code",
   "execution_count": 7,
   "metadata": {},
   "outputs": [],
   "source": [
    "from metal_library import Selector"
   ]
  },
  {
   "cell_type": "code",
   "execution_count": 9,
   "metadata": {},
   "outputs": [
    {
     "name": "stdout",
     "output_type": "stream",
     "text": [
      "ERROR: There are no columns in your `.csv`. This error probably came from using QLibrarian.append_csv() to make a new file.\n",
      "                     Data won't be formatted properly. \n"
     ]
    },
    {
     "data": {
      "text/plain": [
       "{}"
      ]
     },
     "execution_count": 9,
     "metadata": {},
     "output_type": "execute_result"
    }
   ],
   "source": [
    "reader.read_library(component_type='QubitOnly')\n",
    "reader.library"
   ]
  },
  {
   "cell_type": "code",
   "execution_count": 12,
   "metadata": {},
   "outputs": [
    {
     "data": {
      "text/html": [
       "<div>\n",
       "<style scoped>\n",
       "    .dataframe tbody tr th:only-of-type {\n",
       "        vertical-align: middle;\n",
       "    }\n",
       "\n",
       "    .dataframe tbody tr th {\n",
       "        vertical-align: top;\n",
       "    }\n",
       "\n",
       "    .dataframe thead th {\n",
       "        text-align: right;\n",
       "    }\n",
       "</style>\n",
       "<table border=\"1\" class=\"dataframe\">\n",
       "  <thead>\n",
       "    <tr style=\"text-align: right;\">\n",
       "      <th></th>\n",
       "      <th>Unnamed: 0</th>\n",
       "      <th>0</th>\n",
       "      <th>1</th>\n",
       "      <th>2</th>\n",
       "      <th>3</th>\n",
       "      <th>4</th>\n",
       "      <th>5</th>\n",
       "      <th>6</th>\n",
       "      <th>7</th>\n",
       "      <th>8</th>\n",
       "      <th>...</th>\n",
       "      <th>28</th>\n",
       "      <th>29</th>\n",
       "      <th>30</th>\n",
       "      <th>31</th>\n",
       "      <th>32</th>\n",
       "      <th>33</th>\n",
       "      <th>34</th>\n",
       "      <th>35</th>\n",
       "      <th>36</th>\n",
       "      <th>37</th>\n",
       "    </tr>\n",
       "  </thead>\n",
       "  <tbody>\n",
       "    <tr>\n",
       "      <th>0</th>\n",
       "      <td>0</td>\n",
       "      <td>0</td>\n",
       "      <td>0.0um</td>\n",
       "      <td>0</td>\n",
       "      <td>main</td>\n",
       "      <td>1</td>\n",
       "      <td>0</td>\n",
       "      <td>30um</td>\n",
       "      <td>5um</td>\n",
       "      <td>10um</td>\n",
       "      <td>...</td>\n",
       "      <td>0</td>\n",
       "      <td>0</td>\n",
       "      <td>185um</td>\n",
       "      <td>4um</td>\n",
       "      <td>5.1um</td>\n",
       "      <td>10um</td>\n",
       "      <td>NaN</td>\n",
       "      <td>4368.966835</td>\n",
       "      <td>208.731884</td>\n",
       "      <td>{'project_info': {'pinfo': design_name        ...</td>\n",
       "    </tr>\n",
       "    <tr>\n",
       "      <th>1</th>\n",
       "      <td>1</td>\n",
       "      <td>0</td>\n",
       "      <td>0.0um</td>\n",
       "      <td>0</td>\n",
       "      <td>main</td>\n",
       "      <td>1</td>\n",
       "      <td>0</td>\n",
       "      <td>30um</td>\n",
       "      <td>5um</td>\n",
       "      <td>10um</td>\n",
       "      <td>...</td>\n",
       "      <td>0</td>\n",
       "      <td>0</td>\n",
       "      <td>185um</td>\n",
       "      <td>4um</td>\n",
       "      <td>5.1um</td>\n",
       "      <td>10um</td>\n",
       "      <td>NaN</td>\n",
       "      <td>4368.966835</td>\n",
       "      <td>208.731884</td>\n",
       "      <td>{'project_info': {'pinfo': design_name        ...</td>\n",
       "    </tr>\n",
       "    <tr>\n",
       "      <th>2</th>\n",
       "      <td>2</td>\n",
       "      <td>0</td>\n",
       "      <td>0.0um</td>\n",
       "      <td>0</td>\n",
       "      <td>main</td>\n",
       "      <td>1</td>\n",
       "      <td>0</td>\n",
       "      <td>30um</td>\n",
       "      <td>5um</td>\n",
       "      <td>10um</td>\n",
       "      <td>...</td>\n",
       "      <td>0</td>\n",
       "      <td>0</td>\n",
       "      <td>185um</td>\n",
       "      <td>4um</td>\n",
       "      <td>5.1um</td>\n",
       "      <td>10um</td>\n",
       "      <td>NaN</td>\n",
       "      <td>4368.966835</td>\n",
       "      <td>208.731884</td>\n",
       "      <td>{'project_info': {'pinfo': design_name        ...</td>\n",
       "    </tr>\n",
       "    <tr>\n",
       "      <th>3</th>\n",
       "      <td>3</td>\n",
       "      <td>0</td>\n",
       "      <td>0.0um</td>\n",
       "      <td>0</td>\n",
       "      <td>main</td>\n",
       "      <td>1</td>\n",
       "      <td>0</td>\n",
       "      <td>30um</td>\n",
       "      <td>5um</td>\n",
       "      <td>10um</td>\n",
       "      <td>...</td>\n",
       "      <td>0</td>\n",
       "      <td>0</td>\n",
       "      <td>185um</td>\n",
       "      <td>4um</td>\n",
       "      <td>5.1um</td>\n",
       "      <td>10um</td>\n",
       "      <td>NaN</td>\n",
       "      <td>4193.934789</td>\n",
       "      <td>210.539654</td>\n",
       "      <td>{'project_info': {'pinfo': design_name        ...</td>\n",
       "    </tr>\n",
       "    <tr>\n",
       "      <th>4</th>\n",
       "      <td>4</td>\n",
       "      <td>0</td>\n",
       "      <td>0.0um</td>\n",
       "      <td>0</td>\n",
       "      <td>main</td>\n",
       "      <td>1</td>\n",
       "      <td>0</td>\n",
       "      <td>30um</td>\n",
       "      <td>5um</td>\n",
       "      <td>10um</td>\n",
       "      <td>...</td>\n",
       "      <td>0</td>\n",
       "      <td>0</td>\n",
       "      <td>185um</td>\n",
       "      <td>4um</td>\n",
       "      <td>5.1um</td>\n",
       "      <td>10um</td>\n",
       "      <td>NaN</td>\n",
       "      <td>4031.690829</td>\n",
       "      <td>211.554005</td>\n",
       "      <td>{'project_info': {'pinfo': design_name        ...</td>\n",
       "    </tr>\n",
       "    <tr>\n",
       "      <th>...</th>\n",
       "      <td>...</td>\n",
       "      <td>...</td>\n",
       "      <td>...</td>\n",
       "      <td>...</td>\n",
       "      <td>...</td>\n",
       "      <td>...</td>\n",
       "      <td>...</td>\n",
       "      <td>...</td>\n",
       "      <td>...</td>\n",
       "      <td>...</td>\n",
       "      <td>...</td>\n",
       "      <td>...</td>\n",
       "      <td>...</td>\n",
       "      <td>...</td>\n",
       "      <td>...</td>\n",
       "      <td>...</td>\n",
       "      <td>...</td>\n",
       "      <td>...</td>\n",
       "      <td>...</td>\n",
       "      <td>...</td>\n",
       "      <td>...</td>\n",
       "    </tr>\n",
       "    <tr>\n",
       "      <th>723</th>\n",
       "      <td>723</td>\n",
       "      <td>0</td>\n",
       "      <td>0.0um</td>\n",
       "      <td>0</td>\n",
       "      <td>main</td>\n",
       "      <td>1</td>\n",
       "      <td>0</td>\n",
       "      <td>30um</td>\n",
       "      <td>5um</td>\n",
       "      <td>10um</td>\n",
       "      <td>...</td>\n",
       "      <td>0</td>\n",
       "      <td>0</td>\n",
       "      <td>215um</td>\n",
       "      <td>10um</td>\n",
       "      <td>5.1um</td>\n",
       "      <td>15um</td>\n",
       "      <td>NaN</td>\n",
       "      <td>3799.752357</td>\n",
       "      <td>168.592842</td>\n",
       "      <td>{'project_info': {'pinfo': design_name        ...</td>\n",
       "    </tr>\n",
       "    <tr>\n",
       "      <th>724</th>\n",
       "      <td>724</td>\n",
       "      <td>0</td>\n",
       "      <td>0.0um</td>\n",
       "      <td>0</td>\n",
       "      <td>main</td>\n",
       "      <td>1</td>\n",
       "      <td>0</td>\n",
       "      <td>30um</td>\n",
       "      <td>5um</td>\n",
       "      <td>10um</td>\n",
       "      <td>...</td>\n",
       "      <td>0</td>\n",
       "      <td>0</td>\n",
       "      <td>215um</td>\n",
       "      <td>10um</td>\n",
       "      <td>5.1um</td>\n",
       "      <td>15um</td>\n",
       "      <td>NaN</td>\n",
       "      <td>3654.123957</td>\n",
       "      <td>169.409177</td>\n",
       "      <td>{'project_info': {'pinfo': design_name        ...</td>\n",
       "    </tr>\n",
       "    <tr>\n",
       "      <th>725</th>\n",
       "      <td>725</td>\n",
       "      <td>0</td>\n",
       "      <td>0.0um</td>\n",
       "      <td>0</td>\n",
       "      <td>main</td>\n",
       "      <td>1</td>\n",
       "      <td>0</td>\n",
       "      <td>30um</td>\n",
       "      <td>5um</td>\n",
       "      <td>10um</td>\n",
       "      <td>...</td>\n",
       "      <td>0</td>\n",
       "      <td>0</td>\n",
       "      <td>215um</td>\n",
       "      <td>10um</td>\n",
       "      <td>5.1um</td>\n",
       "      <td>15um</td>\n",
       "      <td>NaN</td>\n",
       "      <td>3875.563528</td>\n",
       "      <td>159.563999</td>\n",
       "      <td>{'project_info': {'pinfo': design_name        ...</td>\n",
       "    </tr>\n",
       "    <tr>\n",
       "      <th>726</th>\n",
       "      <td>726</td>\n",
       "      <td>0</td>\n",
       "      <td>0.0um</td>\n",
       "      <td>0</td>\n",
       "      <td>main</td>\n",
       "      <td>1</td>\n",
       "      <td>0</td>\n",
       "      <td>30um</td>\n",
       "      <td>5um</td>\n",
       "      <td>10um</td>\n",
       "      <td>...</td>\n",
       "      <td>0</td>\n",
       "      <td>0</td>\n",
       "      <td>215um</td>\n",
       "      <td>10um</td>\n",
       "      <td>5.1um</td>\n",
       "      <td>15um</td>\n",
       "      <td>NaN</td>\n",
       "      <td>3713.782376</td>\n",
       "      <td>160.186036</td>\n",
       "      <td>{'project_info': {'pinfo': design_name        ...</td>\n",
       "    </tr>\n",
       "    <tr>\n",
       "      <th>727</th>\n",
       "      <td>727</td>\n",
       "      <td>0</td>\n",
       "      <td>0.0um</td>\n",
       "      <td>0</td>\n",
       "      <td>main</td>\n",
       "      <td>1</td>\n",
       "      <td>0</td>\n",
       "      <td>30um</td>\n",
       "      <td>5um</td>\n",
       "      <td>10um</td>\n",
       "      <td>...</td>\n",
       "      <td>0</td>\n",
       "      <td>0</td>\n",
       "      <td>215um</td>\n",
       "      <td>10um</td>\n",
       "      <td>5.1um</td>\n",
       "      <td>15um</td>\n",
       "      <td>NaN</td>\n",
       "      <td>3573.594189</td>\n",
       "      <td>161.143193</td>\n",
       "      <td>{'project_info': {'pinfo': design_name        ...</td>\n",
       "    </tr>\n",
       "  </tbody>\n",
       "</table>\n",
       "<p>728 rows × 39 columns</p>\n",
       "</div>"
      ],
      "text/plain": [
       "     Unnamed: 0  0      1  2     3  4  5     6    7     8  ... 28 29     30  \\\n",
       "0             0  0  0.0um  0  main  1  0  30um  5um  10um  ...  0  0  185um   \n",
       "1             1  0  0.0um  0  main  1  0  30um  5um  10um  ...  0  0  185um   \n",
       "2             2  0  0.0um  0  main  1  0  30um  5um  10um  ...  0  0  185um   \n",
       "3             3  0  0.0um  0  main  1  0  30um  5um  10um  ...  0  0  185um   \n",
       "4             4  0  0.0um  0  main  1  0  30um  5um  10um  ...  0  0  185um   \n",
       "..          ... ..    ... ..   ... .. ..   ...  ...   ...  ... .. ..    ...   \n",
       "723         723  0  0.0um  0  main  1  0  30um  5um  10um  ...  0  0  215um   \n",
       "724         724  0  0.0um  0  main  1  0  30um  5um  10um  ...  0  0  215um   \n",
       "725         725  0  0.0um  0  main  1  0  30um  5um  10um  ...  0  0  215um   \n",
       "726         726  0  0.0um  0  main  1  0  30um  5um  10um  ...  0  0  215um   \n",
       "727         727  0  0.0um  0  main  1  0  30um  5um  10um  ...  0  0  215um   \n",
       "\n",
       "       31     32    33  34           35          36  \\\n",
       "0     4um  5.1um  10um NaN  4368.966835  208.731884   \n",
       "1     4um  5.1um  10um NaN  4368.966835  208.731884   \n",
       "2     4um  5.1um  10um NaN  4368.966835  208.731884   \n",
       "3     4um  5.1um  10um NaN  4193.934789  210.539654   \n",
       "4     4um  5.1um  10um NaN  4031.690829  211.554005   \n",
       "..    ...    ...   ...  ..          ...         ...   \n",
       "723  10um  5.1um  15um NaN  3799.752357  168.592842   \n",
       "724  10um  5.1um  15um NaN  3654.123957  169.409177   \n",
       "725  10um  5.1um  15um NaN  3875.563528  159.563999   \n",
       "726  10um  5.1um  15um NaN  3713.782376  160.186036   \n",
       "727  10um  5.1um  15um NaN  3573.594189  161.143193   \n",
       "\n",
       "                                                    37  \n",
       "0    {'project_info': {'pinfo': design_name        ...  \n",
       "1    {'project_info': {'pinfo': design_name        ...  \n",
       "2    {'project_info': {'pinfo': design_name        ...  \n",
       "3    {'project_info': {'pinfo': design_name        ...  \n",
       "4    {'project_info': {'pinfo': design_name        ...  \n",
       "..                                                 ...  \n",
       "723  {'project_info': {'pinfo': design_name        ...  \n",
       "724  {'project_info': {'pinfo': design_name        ...  \n",
       "725  {'project_info': {'pinfo': design_name        ...  \n",
       "726  {'project_info': {'pinfo': design_name        ...  \n",
       "727  {'project_info': {'pinfo': design_name        ...  \n",
       "\n",
       "[728 rows x 39 columns]"
      ]
     },
     "execution_count": 12,
     "metadata": {},
     "output_type": "execute_result"
    }
   ],
   "source": [
    "import os\n",
    "import pandas as pd\n",
    "\n",
    "csv_file_name = \"QubitOnly.csv\"\n",
    "\n",
    "component_type_path = os.path.join(reader.path, csv_file_name)\n",
    "df = pd.read_csv(component_type_path)\n",
    "df"
   ]
  },
  {
   "cell_type": "code",
   "execution_count": null,
   "metadata": {},
   "outputs": [],
   "source": []
  }
 ],
 "metadata": {
  "kernelspec": {
   "display_name": "Python 3 (ipykernel)",
   "language": "python",
   "name": "python3"
  },
  "language_info": {
   "codemirror_mode": {
    "name": "ipython",
    "version": 3
   },
   "file_extension": ".py",
   "mimetype": "text/x-python",
   "name": "python",
   "nbconvert_exporter": "python",
   "pygments_lexer": "ipython3",
   "version": "3.10.4"
  }
 },
 "nbformat": 4,
 "nbformat_minor": 2
}
